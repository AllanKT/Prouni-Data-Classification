{
 "cells": [
  {
   "cell_type": "markdown",
   "metadata": {},
   "source": [
    "<h1 style='color: green; font-size: 36px; font-weight: bold;'>Topico em Banco de Dados</h1>"
   ]
  },
  {
   "cell_type": "markdown",
   "metadata": {},
   "source": [
    "# <font color='red' style='font-size: 30px;'>Conhecendo o Dataset</font>\n",
    "<hr style='border: 2px solid red;'>"
   ]
  },
  {
   "cell_type": "markdown",
   "metadata": {},
   "source": [
    "## Importando bibliotecas\n",
    "\n",
    "http://dadosabertos.mec.gov.br/prouni/item/31-bolsas-e-perfil-2016"
   ]
  },
  {
   "cell_type": "code",
   "execution_count": 100,
   "metadata": {},
   "outputs": [],
   "source": [
    "import pandas as pd\n",
    "import numpy as np\n",
    "import matplotlib.pyplot as plt\n",
    "import seaborn as sns\n",
    "\n",
    "from imblearn.under_sampling import RandomUnderSampler\n",
    "from sklearn import preprocessing\n",
    "from sklearn.svm import SVC # \"Support vector classifier\"\n",
    "from sklearn.model_selection import GridSearchCV, KFold, train_test_split\n",
    "from sklearn.pipeline import Pipeline\n",
    "from sklearn.naive_bayes import MultinomialNB\n",
    "from sklearn.metrics import confusion_matrix, accuracy_score\n",
    "from sklearn.neighbors import KNeighborsClassifier\n",
    "\n",
    "import time\n",
    "import datetime\n",
    "import os\n",
    "import sys"
   ]
  },
  {
   "cell_type": "markdown",
   "metadata": {},
   "source": [
    "<img width='700px' src='prouni.jpg'>"
   ]
  },
  {
   "cell_type": "code",
   "execution_count": 66,
   "metadata": {},
   "outputs": [],
   "source": [
    "df = pd.read_csv(\"pda-prouni-2016.csv\", sep=';', encoding='latin-1')"
   ]
  },
  {
   "cell_type": "markdown",
   "metadata": {},
   "source": [
    "# <font color='red' style='font-size: 30px;'>Análises Preliminares</font>\n",
    "<hr style='border: 2px solid red;'>"
   ]
  },
  {
   "cell_type": "code",
   "execution_count": 67,
   "metadata": {},
   "outputs": [
    {
     "data": {
      "text/html": [
       "<div>\n",
       "<style scoped>\n",
       "    .dataframe tbody tr th:only-of-type {\n",
       "        vertical-align: middle;\n",
       "    }\n",
       "\n",
       "    .dataframe tbody tr th {\n",
       "        vertical-align: top;\n",
       "    }\n",
       "\n",
       "    .dataframe thead th {\n",
       "        text-align: right;\n",
       "    }\n",
       "</style>\n",
       "<table border=\"1\" class=\"dataframe\">\n",
       "  <thead>\n",
       "    <tr style=\"text-align: right;\">\n",
       "      <th></th>\n",
       "      <th>ANO_CONCESSAO_BOLSA</th>\n",
       "      <th>CODIGO_EMEC_IES_BOLSA</th>\n",
       "      <th>NOME_IES_BOLSA</th>\n",
       "      <th>TIPO_BOLSA</th>\n",
       "      <th>MODALIDADE_ENSINO_BOLSA</th>\n",
       "      <th>NOME_CURSO_BOLSA</th>\n",
       "      <th>NOME_TURNO_CURSO_BOLSA</th>\n",
       "      <th>CPF_BENEFICIARIO_BOLSA</th>\n",
       "      <th>SEXO_BENEFICIARIO_BOLSA</th>\n",
       "      <th>RACA_BENEFICIARIO_BOLSA</th>\n",
       "      <th>DT_NASCIMENTO_BENEFICIARIO</th>\n",
       "      <th>BENEFICIARIO_DEFICIENTE_FISICO</th>\n",
       "      <th>REGIAO_BENEFICIARIO_BOLSA</th>\n",
       "      <th>SIGLA_UF_BENEFICIARIO_BOLSA</th>\n",
       "      <th>MUNICIPIO_BENEFICIARIO_BOLSA</th>\n",
       "    </tr>\n",
       "  </thead>\n",
       "  <tbody>\n",
       "    <tr>\n",
       "      <th>0</th>\n",
       "      <td>2016</td>\n",
       "      <td>20</td>\n",
       "      <td>UNIVERSIDADE DE PASSO FUNDO</td>\n",
       "      <td>BOLSA PARCIAL 50%</td>\n",
       "      <td>PRESENCIAL</td>\n",
       "      <td>Administração</td>\n",
       "      <td>Noturno</td>\n",
       "      <td>***847010**</td>\n",
       "      <td>Feminino</td>\n",
       "      <td>Branca</td>\n",
       "      <td>06-12-1995</td>\n",
       "      <td>NÃO</td>\n",
       "      <td>SUL</td>\n",
       "      <td>RS</td>\n",
       "      <td>SOLEDADE</td>\n",
       "    </tr>\n",
       "    <tr>\n",
       "      <th>1</th>\n",
       "      <td>2016</td>\n",
       "      <td>20</td>\n",
       "      <td>UNIVERSIDADE DE PASSO FUNDO</td>\n",
       "      <td>BOLSA INTEGRAL</td>\n",
       "      <td>PRESENCIAL</td>\n",
       "      <td>Administração</td>\n",
       "      <td>Noturno</td>\n",
       "      <td>***377850**</td>\n",
       "      <td>Feminino</td>\n",
       "      <td>Branca</td>\n",
       "      <td>08-08-1990</td>\n",
       "      <td>NÃO</td>\n",
       "      <td>SUL</td>\n",
       "      <td>RS</td>\n",
       "      <td>SOLEDADE</td>\n",
       "    </tr>\n",
       "    <tr>\n",
       "      <th>2</th>\n",
       "      <td>2016</td>\n",
       "      <td>20</td>\n",
       "      <td>UNIVERSIDADE DE PASSO FUNDO</td>\n",
       "      <td>BOLSA PARCIAL 50%</td>\n",
       "      <td>PRESENCIAL</td>\n",
       "      <td>Administração</td>\n",
       "      <td>Noturno</td>\n",
       "      <td>***266150**</td>\n",
       "      <td>Masculino</td>\n",
       "      <td>Branca</td>\n",
       "      <td>08-03-1999</td>\n",
       "      <td>NÃO</td>\n",
       "      <td>SUL</td>\n",
       "      <td>RS</td>\n",
       "      <td>SOLEDADE</td>\n",
       "    </tr>\n",
       "    <tr>\n",
       "      <th>3</th>\n",
       "      <td>2016</td>\n",
       "      <td>20</td>\n",
       "      <td>UNIVERSIDADE DE PASSO FUNDO</td>\n",
       "      <td>BOLSA PARCIAL 50%</td>\n",
       "      <td>PRESENCIAL</td>\n",
       "      <td>Administração</td>\n",
       "      <td>Noturno</td>\n",
       "      <td>***408700**</td>\n",
       "      <td>Feminino</td>\n",
       "      <td>Branca</td>\n",
       "      <td>24-04-1997</td>\n",
       "      <td>NÃO</td>\n",
       "      <td>SUL</td>\n",
       "      <td>RS</td>\n",
       "      <td>SOLEDADE</td>\n",
       "    </tr>\n",
       "    <tr>\n",
       "      <th>4</th>\n",
       "      <td>2016</td>\n",
       "      <td>423</td>\n",
       "      <td>UNIVERSIDADE REGIONAL INTEGRADA DO ALTO URUGUA...</td>\n",
       "      <td>BOLSA PARCIAL 50%</td>\n",
       "      <td>PRESENCIAL</td>\n",
       "      <td>Ciências Contábeis</td>\n",
       "      <td>Noturno</td>\n",
       "      <td>***560300**</td>\n",
       "      <td>Masculino</td>\n",
       "      <td>Branca</td>\n",
       "      <td>07-05-1994</td>\n",
       "      <td>NÃO</td>\n",
       "      <td>SUL</td>\n",
       "      <td>RS</td>\n",
       "      <td>ERECHIM</td>\n",
       "    </tr>\n",
       "  </tbody>\n",
       "</table>\n",
       "</div>"
      ],
      "text/plain": [
       "   ANO_CONCESSAO_BOLSA  CODIGO_EMEC_IES_BOLSA  \\\n",
       "0                 2016                     20   \n",
       "1                 2016                     20   \n",
       "2                 2016                     20   \n",
       "3                 2016                     20   \n",
       "4                 2016                    423   \n",
       "\n",
       "                                      NOME_IES_BOLSA         TIPO_BOLSA  \\\n",
       "0                        UNIVERSIDADE DE PASSO FUNDO  BOLSA PARCIAL 50%   \n",
       "1                        UNIVERSIDADE DE PASSO FUNDO     BOLSA INTEGRAL   \n",
       "2                        UNIVERSIDADE DE PASSO FUNDO  BOLSA PARCIAL 50%   \n",
       "3                        UNIVERSIDADE DE PASSO FUNDO  BOLSA PARCIAL 50%   \n",
       "4  UNIVERSIDADE REGIONAL INTEGRADA DO ALTO URUGUA...  BOLSA PARCIAL 50%   \n",
       "\n",
       "  MODALIDADE_ENSINO_BOLSA    NOME_CURSO_BOLSA NOME_TURNO_CURSO_BOLSA  \\\n",
       "0              PRESENCIAL       Administração                Noturno   \n",
       "1              PRESENCIAL       Administração                Noturno   \n",
       "2              PRESENCIAL       Administração                Noturno   \n",
       "3              PRESENCIAL       Administração                Noturno   \n",
       "4              PRESENCIAL  Ciências Contábeis                Noturno   \n",
       "\n",
       "  CPF_BENEFICIARIO_BOLSA SEXO_BENEFICIARIO_BOLSA RACA_BENEFICIARIO_BOLSA  \\\n",
       "0            ***847010**                Feminino                  Branca   \n",
       "1            ***377850**                Feminino                  Branca   \n",
       "2            ***266150**               Masculino                  Branca   \n",
       "3            ***408700**                Feminino                  Branca   \n",
       "4            ***560300**               Masculino                  Branca   \n",
       "\n",
       "  DT_NASCIMENTO_BENEFICIARIO BENEFICIARIO_DEFICIENTE_FISICO  \\\n",
       "0                 06-12-1995                            NÃO   \n",
       "1                 08-08-1990                            NÃO   \n",
       "2                 08-03-1999                            NÃO   \n",
       "3                 24-04-1997                            NÃO   \n",
       "4                 07-05-1994                            NÃO   \n",
       "\n",
       "  REGIAO_BENEFICIARIO_BOLSA SIGLA_UF_BENEFICIARIO_BOLSA  \\\n",
       "0                       SUL                          RS   \n",
       "1                       SUL                          RS   \n",
       "2                       SUL                          RS   \n",
       "3                       SUL                          RS   \n",
       "4                       SUL                          RS   \n",
       "\n",
       "  MUNICIPIO_BENEFICIARIO_BOLSA  \n",
       "0                     SOLEDADE  \n",
       "1                     SOLEDADE  \n",
       "2                     SOLEDADE  \n",
       "3                     SOLEDADE  \n",
       "4                      ERECHIM  "
      ]
     },
     "execution_count": 67,
     "metadata": {},
     "output_type": "execute_result"
    }
   ],
   "source": [
    "df.head()"
   ]
  },
  {
   "cell_type": "code",
   "execution_count": 68,
   "metadata": {},
   "outputs": [
    {
     "data": {
      "text/plain": [
       "(239262, 15)"
      ]
     },
     "execution_count": 68,
     "metadata": {},
     "output_type": "execute_result"
    }
   ],
   "source": [
    "df.shape"
   ]
  },
  {
   "cell_type": "code",
   "execution_count": 69,
   "metadata": {},
   "outputs": [
    {
     "data": {
      "text/plain": [
       "Index(['ANO_CONCESSAO_BOLSA', 'CODIGO_EMEC_IES_BOLSA', 'NOME_IES_BOLSA',\n",
       "       'TIPO_BOLSA', 'MODALIDADE_ENSINO_BOLSA', 'NOME_CURSO_BOLSA',\n",
       "       'NOME_TURNO_CURSO_BOLSA', 'CPF_BENEFICIARIO_BOLSA',\n",
       "       'SEXO_BENEFICIARIO_BOLSA', 'RACA_BENEFICIARIO_BOLSA',\n",
       "       'DT_NASCIMENTO_BENEFICIARIO', 'BENEFICIARIO_DEFICIENTE_FISICO',\n",
       "       'REGIAO_BENEFICIARIO_BOLSA', 'SIGLA_UF_BENEFICIARIO_BOLSA',\n",
       "       'MUNICIPIO_BENEFICIARIO_BOLSA'],\n",
       "      dtype='object')"
      ]
     },
     "execution_count": 69,
     "metadata": {},
     "output_type": "execute_result"
    }
   ],
   "source": [
    "df.columns"
   ]
  },
  {
   "cell_type": "code",
   "execution_count": 70,
   "metadata": {},
   "outputs": [
    {
     "data": {
      "text/plain": [
       "ANO_CONCESSAO_BOLSA                int64\n",
       "CODIGO_EMEC_IES_BOLSA              int64\n",
       "NOME_IES_BOLSA                    object\n",
       "TIPO_BOLSA                        object\n",
       "MODALIDADE_ENSINO_BOLSA           object\n",
       "NOME_CURSO_BOLSA                  object\n",
       "NOME_TURNO_CURSO_BOLSA            object\n",
       "CPF_BENEFICIARIO_BOLSA            object\n",
       "SEXO_BENEFICIARIO_BOLSA           object\n",
       "RACA_BENEFICIARIO_BOLSA           object\n",
       "DT_NASCIMENTO_BENEFICIARIO        object\n",
       "BENEFICIARIO_DEFICIENTE_FISICO    object\n",
       "REGIAO_BENEFICIARIO_BOLSA         object\n",
       "SIGLA_UF_BENEFICIARIO_BOLSA       object\n",
       "MUNICIPIO_BENEFICIARIO_BOLSA      object\n",
       "dtype: object"
      ]
     },
     "execution_count": 70,
     "metadata": {},
     "output_type": "execute_result"
    }
   ],
   "source": [
    "df.dtypes"
   ]
  },
  {
   "cell_type": "code",
   "execution_count": 71,
   "metadata": {},
   "outputs": [
    {
     "name": "stdout",
     "output_type": "stream",
     "text": [
      "Datas de nascimento:  (12861,) \n",
      "\n"
     ]
    }
   ],
   "source": [
    "print('Datas de nascimento: ', df['DT_NASCIMENTO_BENEFICIARIO'].unique().shape, '\\n')"
   ]
  },
  {
   "cell_type": "markdown",
   "metadata": {},
   "source": [
    "# <font color='red' style='font-size: 30px;'>Tratando os dados</font>\n",
    "<hr style='border: 2px solid red;'>"
   ]
  },
  {
   "cell_type": "markdown",
   "metadata": {},
   "source": [
    "## Binning Encoder\n",
    "\n",
    "<p style='font-size: 18px; line-height: 2; margin: 10px 50px; text-align: justify;'>É a tentativa de tranformar dados não categoricos em categoricos, baseando-se em uma faixa de valores, diminuindo a quantidade de tpos de amostras</p>"
   ]
  },
  {
   "cell_type": "code",
   "execution_count": 72,
   "metadata": {},
   "outputs": [],
   "source": [
    "years = list()\n",
    "df['DT_NASCIMENTO_BENEFICIARIO'].apply(lambda x: years.append(x.split('-')[-1]))\n",
    "df['DT_NASCIMENTO_BENEFICIARIO'] = np.array(years)"
   ]
  },
  {
   "cell_type": "markdown",
   "metadata": {},
   "source": [
    "<p style='font-size: 18px; line-height: 2; margin: 10px 50px; text-align: justify;'><b>Visualizando valores únicos nas colunas</b> </p>"
   ]
  },
  {
   "cell_type": "code",
   "execution_count": 73,
   "metadata": {},
   "outputs": [
    {
     "name": "stdout",
     "output_type": "stream",
     "text": [
      "Datas de nascimento:  (60,) \n",
      "\n",
      "Anos no dataset:  (1,) \n",
      "\n",
      "Total de valores unicos:  (202141,) \n",
      "\n",
      "Total de instituição de educação superior:  (1102,) \n",
      "\n",
      "Tamenho do dataset:  (239262, 15) \n",
      "\n"
     ]
    }
   ],
   "source": [
    "print('Datas de nascimento: ', df['DT_NASCIMENTO_BENEFICIARIO'].unique().shape, '\\n')\n",
    "print('Anos no dataset: ', df['ANO_CONCESSAO_BOLSA'].unique().shape, '\\n')\n",
    "print('Total de valores unicos: ', df['CPF_BENEFICIARIO_BOLSA'].unique().shape, '\\n')\n",
    "print('Total de instituição de educação superior: ', df['NOME_IES_BOLSA'].unique().shape, '\\n')\n",
    "print('Tamenho do dataset: ', df.shape, '\\n')"
   ]
  },
  {
   "cell_type": "markdown",
   "metadata": {},
   "source": [
    "<p style='font-size: 18px; line-height: 2; margin: 10px 50px; text-align: justify;'><b>Removendo colunas desnecessárias</b> </p>"
   ]
  },
  {
   "cell_type": "code",
   "execution_count": 74,
   "metadata": {},
   "outputs": [],
   "source": [
    "df.drop(['CPF_BENEFICIARIO_BOLSA', 'ANO_CONCESSAO_BOLSA'], axis=1, inplace=True)"
   ]
  },
  {
   "cell_type": "markdown",
   "metadata": {},
   "source": [
    "<p style='font-size: 18px; line-height: 2; margin: 10px 50px; text-align: justify;'><b>Removendo linhas que possuam valores nulos</b> </p>"
   ]
  },
  {
   "cell_type": "code",
   "execution_count": 75,
   "metadata": {},
   "outputs": [
    {
     "data": {
      "text/plain": [
       "(239218, 13)"
      ]
     },
     "execution_count": 75,
     "metadata": {},
     "output_type": "execute_result"
    }
   ],
   "source": [
    "df.dropna(inplace=True)\n",
    "df.shape"
   ]
  },
  {
   "cell_type": "code",
   "execution_count": 76,
   "metadata": {},
   "outputs": [
    {
     "data": {
      "text/html": [
       "<div>\n",
       "<style scoped>\n",
       "    .dataframe tbody tr th:only-of-type {\n",
       "        vertical-align: middle;\n",
       "    }\n",
       "\n",
       "    .dataframe tbody tr th {\n",
       "        vertical-align: top;\n",
       "    }\n",
       "\n",
       "    .dataframe thead th {\n",
       "        text-align: right;\n",
       "    }\n",
       "</style>\n",
       "<table border=\"1\" class=\"dataframe\">\n",
       "  <thead>\n",
       "    <tr style=\"text-align: right;\">\n",
       "      <th></th>\n",
       "      <th>CODIGO_EMEC_IES_BOLSA</th>\n",
       "      <th>NOME_IES_BOLSA</th>\n",
       "      <th>TIPO_BOLSA</th>\n",
       "      <th>MODALIDADE_ENSINO_BOLSA</th>\n",
       "      <th>NOME_CURSO_BOLSA</th>\n",
       "      <th>NOME_TURNO_CURSO_BOLSA</th>\n",
       "      <th>SEXO_BENEFICIARIO_BOLSA</th>\n",
       "      <th>RACA_BENEFICIARIO_BOLSA</th>\n",
       "      <th>DT_NASCIMENTO_BENEFICIARIO</th>\n",
       "      <th>BENEFICIARIO_DEFICIENTE_FISICO</th>\n",
       "      <th>REGIAO_BENEFICIARIO_BOLSA</th>\n",
       "      <th>SIGLA_UF_BENEFICIARIO_BOLSA</th>\n",
       "      <th>MUNICIPIO_BENEFICIARIO_BOLSA</th>\n",
       "    </tr>\n",
       "  </thead>\n",
       "  <tbody>\n",
       "    <tr>\n",
       "      <th>0</th>\n",
       "      <td>20</td>\n",
       "      <td>UNIVERSIDADE DE PASSO FUNDO</td>\n",
       "      <td>BOLSA PARCIAL 50%</td>\n",
       "      <td>PRESENCIAL</td>\n",
       "      <td>Administração</td>\n",
       "      <td>Noturno</td>\n",
       "      <td>Feminino</td>\n",
       "      <td>Branca</td>\n",
       "      <td>1995</td>\n",
       "      <td>NÃO</td>\n",
       "      <td>SUL</td>\n",
       "      <td>RS</td>\n",
       "      <td>SOLEDADE</td>\n",
       "    </tr>\n",
       "    <tr>\n",
       "      <th>1</th>\n",
       "      <td>20</td>\n",
       "      <td>UNIVERSIDADE DE PASSO FUNDO</td>\n",
       "      <td>BOLSA INTEGRAL</td>\n",
       "      <td>PRESENCIAL</td>\n",
       "      <td>Administração</td>\n",
       "      <td>Noturno</td>\n",
       "      <td>Feminino</td>\n",
       "      <td>Branca</td>\n",
       "      <td>1990</td>\n",
       "      <td>NÃO</td>\n",
       "      <td>SUL</td>\n",
       "      <td>RS</td>\n",
       "      <td>SOLEDADE</td>\n",
       "    </tr>\n",
       "    <tr>\n",
       "      <th>2</th>\n",
       "      <td>20</td>\n",
       "      <td>UNIVERSIDADE DE PASSO FUNDO</td>\n",
       "      <td>BOLSA PARCIAL 50%</td>\n",
       "      <td>PRESENCIAL</td>\n",
       "      <td>Administração</td>\n",
       "      <td>Noturno</td>\n",
       "      <td>Masculino</td>\n",
       "      <td>Branca</td>\n",
       "      <td>1999</td>\n",
       "      <td>NÃO</td>\n",
       "      <td>SUL</td>\n",
       "      <td>RS</td>\n",
       "      <td>SOLEDADE</td>\n",
       "    </tr>\n",
       "    <tr>\n",
       "      <th>3</th>\n",
       "      <td>20</td>\n",
       "      <td>UNIVERSIDADE DE PASSO FUNDO</td>\n",
       "      <td>BOLSA PARCIAL 50%</td>\n",
       "      <td>PRESENCIAL</td>\n",
       "      <td>Administração</td>\n",
       "      <td>Noturno</td>\n",
       "      <td>Feminino</td>\n",
       "      <td>Branca</td>\n",
       "      <td>1997</td>\n",
       "      <td>NÃO</td>\n",
       "      <td>SUL</td>\n",
       "      <td>RS</td>\n",
       "      <td>SOLEDADE</td>\n",
       "    </tr>\n",
       "    <tr>\n",
       "      <th>4</th>\n",
       "      <td>423</td>\n",
       "      <td>UNIVERSIDADE REGIONAL INTEGRADA DO ALTO URUGUA...</td>\n",
       "      <td>BOLSA PARCIAL 50%</td>\n",
       "      <td>PRESENCIAL</td>\n",
       "      <td>Ciências Contábeis</td>\n",
       "      <td>Noturno</td>\n",
       "      <td>Masculino</td>\n",
       "      <td>Branca</td>\n",
       "      <td>1994</td>\n",
       "      <td>NÃO</td>\n",
       "      <td>SUL</td>\n",
       "      <td>RS</td>\n",
       "      <td>ERECHIM</td>\n",
       "    </tr>\n",
       "  </tbody>\n",
       "</table>\n",
       "</div>"
      ],
      "text/plain": [
       "   CODIGO_EMEC_IES_BOLSA                                     NOME_IES_BOLSA  \\\n",
       "0                     20                        UNIVERSIDADE DE PASSO FUNDO   \n",
       "1                     20                        UNIVERSIDADE DE PASSO FUNDO   \n",
       "2                     20                        UNIVERSIDADE DE PASSO FUNDO   \n",
       "3                     20                        UNIVERSIDADE DE PASSO FUNDO   \n",
       "4                    423  UNIVERSIDADE REGIONAL INTEGRADA DO ALTO URUGUA...   \n",
       "\n",
       "          TIPO_BOLSA MODALIDADE_ENSINO_BOLSA    NOME_CURSO_BOLSA  \\\n",
       "0  BOLSA PARCIAL 50%              PRESENCIAL       Administração   \n",
       "1     BOLSA INTEGRAL              PRESENCIAL       Administração   \n",
       "2  BOLSA PARCIAL 50%              PRESENCIAL       Administração   \n",
       "3  BOLSA PARCIAL 50%              PRESENCIAL       Administração   \n",
       "4  BOLSA PARCIAL 50%              PRESENCIAL  Ciências Contábeis   \n",
       "\n",
       "  NOME_TURNO_CURSO_BOLSA SEXO_BENEFICIARIO_BOLSA RACA_BENEFICIARIO_BOLSA  \\\n",
       "0                Noturno                Feminino                  Branca   \n",
       "1                Noturno                Feminino                  Branca   \n",
       "2                Noturno               Masculino                  Branca   \n",
       "3                Noturno                Feminino                  Branca   \n",
       "4                Noturno               Masculino                  Branca   \n",
       "\n",
       "  DT_NASCIMENTO_BENEFICIARIO BENEFICIARIO_DEFICIENTE_FISICO  \\\n",
       "0                       1995                            NÃO   \n",
       "1                       1990                            NÃO   \n",
       "2                       1999                            NÃO   \n",
       "3                       1997                            NÃO   \n",
       "4                       1994                            NÃO   \n",
       "\n",
       "  REGIAO_BENEFICIARIO_BOLSA SIGLA_UF_BENEFICIARIO_BOLSA  \\\n",
       "0                       SUL                          RS   \n",
       "1                       SUL                          RS   \n",
       "2                       SUL                          RS   \n",
       "3                       SUL                          RS   \n",
       "4                       SUL                          RS   \n",
       "\n",
       "  MUNICIPIO_BENEFICIARIO_BOLSA  \n",
       "0                     SOLEDADE  \n",
       "1                     SOLEDADE  \n",
       "2                     SOLEDADE  \n",
       "3                     SOLEDADE  \n",
       "4                      ERECHIM  "
      ]
     },
     "execution_count": 76,
     "metadata": {},
     "output_type": "execute_result"
    }
   ],
   "source": [
    "df.head()"
   ]
  },
  {
   "cell_type": "markdown",
   "metadata": {},
   "source": [
    "## Label Encoder\n",
    "\n",
    "<p style='font-size: 18px; line-height: 2; margin: 10px 50px; text-align: justify;'>É a tentativa de tranformar valores categoricos nominais em valores categoricos numéricos. Utilizaremos a biblioteca sklearn para esta tarefa</p>"
   ]
  },
  {
   "cell_type": "code",
   "execution_count": 77,
   "metadata": {},
   "outputs": [],
   "source": [
    "df_for_train = df.drop(['NOME_IES_BOLSA', 'CODIGO_EMEC_IES_BOLSA', 'DT_NASCIMENTO_BENEFICIARIO'], axis=1)"
   ]
  },
  {
   "cell_type": "code",
   "execution_count": 78,
   "metadata": {},
   "outputs": [],
   "source": [
    "le = preprocessing.LabelEncoder()\n",
    "\n",
    "for i in df_for_train:\n",
    "    le.fit(df_for_train[i])\n",
    "    df_for_train[i] = le.transform(df_for_train[i])"
   ]
  },
  {
   "cell_type": "markdown",
   "metadata": {},
   "source": [
    "## Matriz de correlação\n",
    "\n",
    "<p style='font-size: 18px; line-height: 2; margin: 10px 50px; text-align: justify;'>O <b>coeficiente de correlação</b> é uma medida de associação linear entre duas variáveis e situa-se entre <b>-1</b> e <b>+1</b> sendo que <b>-1</b> indica associação negativa perfeita e <b>+1</b> indica associação positiva perfeita.</p>"
   ]
  },
  {
   "cell_type": "code",
   "execution_count": 79,
   "metadata": {},
   "outputs": [
    {
     "data": {
      "text/html": [
       "<div>\n",
       "<style scoped>\n",
       "    .dataframe tbody tr th:only-of-type {\n",
       "        vertical-align: middle;\n",
       "    }\n",
       "\n",
       "    .dataframe tbody tr th {\n",
       "        vertical-align: top;\n",
       "    }\n",
       "\n",
       "    .dataframe thead th {\n",
       "        text-align: right;\n",
       "    }\n",
       "</style>\n",
       "<table border=\"1\" class=\"dataframe\">\n",
       "  <thead>\n",
       "    <tr style=\"text-align: right;\">\n",
       "      <th></th>\n",
       "      <th>TIPO_BOLSA</th>\n",
       "      <th>MODALIDADE_ENSINO_BOLSA</th>\n",
       "      <th>NOME_CURSO_BOLSA</th>\n",
       "      <th>NOME_TURNO_CURSO_BOLSA</th>\n",
       "      <th>SEXO_BENEFICIARIO_BOLSA</th>\n",
       "      <th>RACA_BENEFICIARIO_BOLSA</th>\n",
       "      <th>BENEFICIARIO_DEFICIENTE_FISICO</th>\n",
       "      <th>REGIAO_BENEFICIARIO_BOLSA</th>\n",
       "      <th>SIGLA_UF_BENEFICIARIO_BOLSA</th>\n",
       "      <th>MUNICIPIO_BENEFICIARIO_BOLSA</th>\n",
       "    </tr>\n",
       "  </thead>\n",
       "  <tbody>\n",
       "    <tr>\n",
       "      <th>TIPO_BOLSA</th>\n",
       "      <td>1.0000</td>\n",
       "      <td>0.1759</td>\n",
       "      <td>-0.0582</td>\n",
       "      <td>0.1775</td>\n",
       "      <td>-0.0133</td>\n",
       "      <td>0.0233</td>\n",
       "      <td>-0.0055</td>\n",
       "      <td>-0.1481</td>\n",
       "      <td>-0.1625</td>\n",
       "      <td>-0.0381</td>\n",
       "    </tr>\n",
       "    <tr>\n",
       "      <th>MODALIDADE_ENSINO_BOLSA</th>\n",
       "      <td>0.1759</td>\n",
       "      <td>1.0000</td>\n",
       "      <td>-0.1537</td>\n",
       "      <td>0.8993</td>\n",
       "      <td>0.0337</td>\n",
       "      <td>-0.0226</td>\n",
       "      <td>-0.0258</td>\n",
       "      <td>-0.0416</td>\n",
       "      <td>-0.0030</td>\n",
       "      <td>0.0294</td>\n",
       "    </tr>\n",
       "    <tr>\n",
       "      <th>NOME_CURSO_BOLSA</th>\n",
       "      <td>-0.0582</td>\n",
       "      <td>-0.1537</td>\n",
       "      <td>1.0000</td>\n",
       "      <td>-0.1555</td>\n",
       "      <td>-0.0999</td>\n",
       "      <td>0.0134</td>\n",
       "      <td>0.0049</td>\n",
       "      <td>0.0160</td>\n",
       "      <td>0.0139</td>\n",
       "      <td>0.0028</td>\n",
       "    </tr>\n",
       "    <tr>\n",
       "      <th>NOME_TURNO_CURSO_BOLSA</th>\n",
       "      <td>0.1775</td>\n",
       "      <td>0.8993</td>\n",
       "      <td>-0.1555</td>\n",
       "      <td>1.0000</td>\n",
       "      <td>0.0569</td>\n",
       "      <td>-0.0152</td>\n",
       "      <td>-0.0233</td>\n",
       "      <td>-0.0336</td>\n",
       "      <td>0.0023</td>\n",
       "      <td>0.0266</td>\n",
       "    </tr>\n",
       "    <tr>\n",
       "      <th>SEXO_BENEFICIARIO_BOLSA</th>\n",
       "      <td>-0.0133</td>\n",
       "      <td>0.0337</td>\n",
       "      <td>-0.0999</td>\n",
       "      <td>0.0569</td>\n",
       "      <td>1.0000</td>\n",
       "      <td>0.0314</td>\n",
       "      <td>0.0263</td>\n",
       "      <td>-0.0172</td>\n",
       "      <td>-0.0204</td>\n",
       "      <td>-0.0010</td>\n",
       "    </tr>\n",
       "    <tr>\n",
       "      <th>RACA_BENEFICIARIO_BOLSA</th>\n",
       "      <td>0.0233</td>\n",
       "      <td>-0.0226</td>\n",
       "      <td>0.0134</td>\n",
       "      <td>-0.0152</td>\n",
       "      <td>0.0314</td>\n",
       "      <td>1.0000</td>\n",
       "      <td>-0.0067</td>\n",
       "      <td>-0.3082</td>\n",
       "      <td>-0.2845</td>\n",
       "      <td>-0.0109</td>\n",
       "    </tr>\n",
       "    <tr>\n",
       "      <th>BENEFICIARIO_DEFICIENTE_FISICO</th>\n",
       "      <td>-0.0055</td>\n",
       "      <td>-0.0258</td>\n",
       "      <td>0.0049</td>\n",
       "      <td>-0.0233</td>\n",
       "      <td>0.0263</td>\n",
       "      <td>-0.0067</td>\n",
       "      <td>1.0000</td>\n",
       "      <td>-0.0046</td>\n",
       "      <td>-0.0035</td>\n",
       "      <td>-0.0035</td>\n",
       "    </tr>\n",
       "    <tr>\n",
       "      <th>REGIAO_BENEFICIARIO_BOLSA</th>\n",
       "      <td>-0.1481</td>\n",
       "      <td>-0.0416</td>\n",
       "      <td>0.0160</td>\n",
       "      <td>-0.0336</td>\n",
       "      <td>-0.0172</td>\n",
       "      <td>-0.3082</td>\n",
       "      <td>-0.0046</td>\n",
       "      <td>1.0000</td>\n",
       "      <td>0.6141</td>\n",
       "      <td>0.1103</td>\n",
       "    </tr>\n",
       "    <tr>\n",
       "      <th>SIGLA_UF_BENEFICIARIO_BOLSA</th>\n",
       "      <td>-0.1625</td>\n",
       "      <td>-0.0030</td>\n",
       "      <td>0.0139</td>\n",
       "      <td>0.0023</td>\n",
       "      <td>-0.0204</td>\n",
       "      <td>-0.2845</td>\n",
       "      <td>-0.0035</td>\n",
       "      <td>0.6141</td>\n",
       "      <td>1.0000</td>\n",
       "      <td>0.1828</td>\n",
       "    </tr>\n",
       "    <tr>\n",
       "      <th>MUNICIPIO_BENEFICIARIO_BOLSA</th>\n",
       "      <td>-0.0381</td>\n",
       "      <td>0.0294</td>\n",
       "      <td>0.0028</td>\n",
       "      <td>0.0266</td>\n",
       "      <td>-0.0010</td>\n",
       "      <td>-0.0109</td>\n",
       "      <td>-0.0035</td>\n",
       "      <td>0.1103</td>\n",
       "      <td>0.1828</td>\n",
       "      <td>1.0000</td>\n",
       "    </tr>\n",
       "  </tbody>\n",
       "</table>\n",
       "</div>"
      ],
      "text/plain": [
       "                                TIPO_BOLSA  MODALIDADE_ENSINO_BOLSA  \\\n",
       "TIPO_BOLSA                          1.0000                   0.1759   \n",
       "MODALIDADE_ENSINO_BOLSA             0.1759                   1.0000   \n",
       "NOME_CURSO_BOLSA                   -0.0582                  -0.1537   \n",
       "NOME_TURNO_CURSO_BOLSA              0.1775                   0.8993   \n",
       "SEXO_BENEFICIARIO_BOLSA            -0.0133                   0.0337   \n",
       "RACA_BENEFICIARIO_BOLSA             0.0233                  -0.0226   \n",
       "BENEFICIARIO_DEFICIENTE_FISICO     -0.0055                  -0.0258   \n",
       "REGIAO_BENEFICIARIO_BOLSA          -0.1481                  -0.0416   \n",
       "SIGLA_UF_BENEFICIARIO_BOLSA        -0.1625                  -0.0030   \n",
       "MUNICIPIO_BENEFICIARIO_BOLSA       -0.0381                   0.0294   \n",
       "\n",
       "                                NOME_CURSO_BOLSA  NOME_TURNO_CURSO_BOLSA  \\\n",
       "TIPO_BOLSA                               -0.0582                  0.1775   \n",
       "MODALIDADE_ENSINO_BOLSA                  -0.1537                  0.8993   \n",
       "NOME_CURSO_BOLSA                          1.0000                 -0.1555   \n",
       "NOME_TURNO_CURSO_BOLSA                   -0.1555                  1.0000   \n",
       "SEXO_BENEFICIARIO_BOLSA                  -0.0999                  0.0569   \n",
       "RACA_BENEFICIARIO_BOLSA                   0.0134                 -0.0152   \n",
       "BENEFICIARIO_DEFICIENTE_FISICO            0.0049                 -0.0233   \n",
       "REGIAO_BENEFICIARIO_BOLSA                 0.0160                 -0.0336   \n",
       "SIGLA_UF_BENEFICIARIO_BOLSA               0.0139                  0.0023   \n",
       "MUNICIPIO_BENEFICIARIO_BOLSA              0.0028                  0.0266   \n",
       "\n",
       "                                SEXO_BENEFICIARIO_BOLSA  \\\n",
       "TIPO_BOLSA                                      -0.0133   \n",
       "MODALIDADE_ENSINO_BOLSA                          0.0337   \n",
       "NOME_CURSO_BOLSA                                -0.0999   \n",
       "NOME_TURNO_CURSO_BOLSA                           0.0569   \n",
       "SEXO_BENEFICIARIO_BOLSA                          1.0000   \n",
       "RACA_BENEFICIARIO_BOLSA                          0.0314   \n",
       "BENEFICIARIO_DEFICIENTE_FISICO                   0.0263   \n",
       "REGIAO_BENEFICIARIO_BOLSA                       -0.0172   \n",
       "SIGLA_UF_BENEFICIARIO_BOLSA                     -0.0204   \n",
       "MUNICIPIO_BENEFICIARIO_BOLSA                    -0.0010   \n",
       "\n",
       "                                RACA_BENEFICIARIO_BOLSA  \\\n",
       "TIPO_BOLSA                                       0.0233   \n",
       "MODALIDADE_ENSINO_BOLSA                         -0.0226   \n",
       "NOME_CURSO_BOLSA                                 0.0134   \n",
       "NOME_TURNO_CURSO_BOLSA                          -0.0152   \n",
       "SEXO_BENEFICIARIO_BOLSA                          0.0314   \n",
       "RACA_BENEFICIARIO_BOLSA                          1.0000   \n",
       "BENEFICIARIO_DEFICIENTE_FISICO                  -0.0067   \n",
       "REGIAO_BENEFICIARIO_BOLSA                       -0.3082   \n",
       "SIGLA_UF_BENEFICIARIO_BOLSA                     -0.2845   \n",
       "MUNICIPIO_BENEFICIARIO_BOLSA                    -0.0109   \n",
       "\n",
       "                                BENEFICIARIO_DEFICIENTE_FISICO  \\\n",
       "TIPO_BOLSA                                             -0.0055   \n",
       "MODALIDADE_ENSINO_BOLSA                                -0.0258   \n",
       "NOME_CURSO_BOLSA                                        0.0049   \n",
       "NOME_TURNO_CURSO_BOLSA                                 -0.0233   \n",
       "SEXO_BENEFICIARIO_BOLSA                                 0.0263   \n",
       "RACA_BENEFICIARIO_BOLSA                                -0.0067   \n",
       "BENEFICIARIO_DEFICIENTE_FISICO                          1.0000   \n",
       "REGIAO_BENEFICIARIO_BOLSA                              -0.0046   \n",
       "SIGLA_UF_BENEFICIARIO_BOLSA                            -0.0035   \n",
       "MUNICIPIO_BENEFICIARIO_BOLSA                           -0.0035   \n",
       "\n",
       "                                REGIAO_BENEFICIARIO_BOLSA  \\\n",
       "TIPO_BOLSA                                        -0.1481   \n",
       "MODALIDADE_ENSINO_BOLSA                           -0.0416   \n",
       "NOME_CURSO_BOLSA                                   0.0160   \n",
       "NOME_TURNO_CURSO_BOLSA                            -0.0336   \n",
       "SEXO_BENEFICIARIO_BOLSA                           -0.0172   \n",
       "RACA_BENEFICIARIO_BOLSA                           -0.3082   \n",
       "BENEFICIARIO_DEFICIENTE_FISICO                    -0.0046   \n",
       "REGIAO_BENEFICIARIO_BOLSA                          1.0000   \n",
       "SIGLA_UF_BENEFICIARIO_BOLSA                        0.6141   \n",
       "MUNICIPIO_BENEFICIARIO_BOLSA                       0.1103   \n",
       "\n",
       "                                SIGLA_UF_BENEFICIARIO_BOLSA  \\\n",
       "TIPO_BOLSA                                          -0.1625   \n",
       "MODALIDADE_ENSINO_BOLSA                             -0.0030   \n",
       "NOME_CURSO_BOLSA                                     0.0139   \n",
       "NOME_TURNO_CURSO_BOLSA                               0.0023   \n",
       "SEXO_BENEFICIARIO_BOLSA                             -0.0204   \n",
       "RACA_BENEFICIARIO_BOLSA                             -0.2845   \n",
       "BENEFICIARIO_DEFICIENTE_FISICO                      -0.0035   \n",
       "REGIAO_BENEFICIARIO_BOLSA                            0.6141   \n",
       "SIGLA_UF_BENEFICIARIO_BOLSA                          1.0000   \n",
       "MUNICIPIO_BENEFICIARIO_BOLSA                         0.1828   \n",
       "\n",
       "                                MUNICIPIO_BENEFICIARIO_BOLSA  \n",
       "TIPO_BOLSA                                           -0.0381  \n",
       "MODALIDADE_ENSINO_BOLSA                               0.0294  \n",
       "NOME_CURSO_BOLSA                                      0.0028  \n",
       "NOME_TURNO_CURSO_BOLSA                                0.0266  \n",
       "SEXO_BENEFICIARIO_BOLSA                              -0.0010  \n",
       "RACA_BENEFICIARIO_BOLSA                              -0.0109  \n",
       "BENEFICIARIO_DEFICIENTE_FISICO                       -0.0035  \n",
       "REGIAO_BENEFICIARIO_BOLSA                             0.1103  \n",
       "SIGLA_UF_BENEFICIARIO_BOLSA                           0.1828  \n",
       "MUNICIPIO_BENEFICIARIO_BOLSA                          1.0000  "
      ]
     },
     "execution_count": 79,
     "metadata": {},
     "output_type": "execute_result"
    }
   ],
   "source": [
    "df_for_train.corr().round(4)"
   ]
  },
  {
   "cell_type": "markdown",
   "metadata": {},
   "source": [
    "## Separando dados\n",
    "\n",
    "<p style='font-size: 18px; line-height: 2; margin: 10px 50px; text-align: justify;'>Aqui separaremos nossa base de dados em dados com as features e com os labels, já com o label encoder</p>"
   ]
  },
  {
   "cell_type": "code",
   "execution_count": 80,
   "metadata": {},
   "outputs": [],
   "source": [
    "X = df_for_train.drop(['TIPO_BOLSA'], axis=1)\n",
    "y = df_for_train['TIPO_BOLSA']"
   ]
  },
  {
   "cell_type": "code",
   "execution_count": 81,
   "metadata": {},
   "outputs": [],
   "source": [
    "le.fit(y)\n",
    "y = le.transform(y)"
   ]
  },
  {
   "cell_type": "code",
   "execution_count": 82,
   "metadata": {
    "scrolled": false
   },
   "outputs": [
    {
     "data": {
      "text/html": [
       "<div>\n",
       "<style scoped>\n",
       "    .dataframe tbody tr th:only-of-type {\n",
       "        vertical-align: middle;\n",
       "    }\n",
       "\n",
       "    .dataframe tbody tr th {\n",
       "        vertical-align: top;\n",
       "    }\n",
       "\n",
       "    .dataframe thead th {\n",
       "        text-align: right;\n",
       "    }\n",
       "</style>\n",
       "<table border=\"1\" class=\"dataframe\">\n",
       "  <thead>\n",
       "    <tr style=\"text-align: right;\">\n",
       "      <th></th>\n",
       "      <th>MODALIDADE_ENSINO_BOLSA</th>\n",
       "      <th>NOME_CURSO_BOLSA</th>\n",
       "      <th>NOME_TURNO_CURSO_BOLSA</th>\n",
       "      <th>SEXO_BENEFICIARIO_BOLSA</th>\n",
       "      <th>RACA_BENEFICIARIO_BOLSA</th>\n",
       "      <th>BENEFICIARIO_DEFICIENTE_FISICO</th>\n",
       "      <th>REGIAO_BENEFICIARIO_BOLSA</th>\n",
       "      <th>SIGLA_UF_BENEFICIARIO_BOLSA</th>\n",
       "      <th>MUNICIPIO_BENEFICIARIO_BOLSA</th>\n",
       "      <th>CODIGO_EMEC_IES_BOLSA</th>\n",
       "      <th>DT_NASCIMENTO_BENEFICIARIO</th>\n",
       "    </tr>\n",
       "  </thead>\n",
       "  <tbody>\n",
       "    <tr>\n",
       "      <th>0</th>\n",
       "      <td>1</td>\n",
       "      <td>0</td>\n",
       "      <td>3</td>\n",
       "      <td>0</td>\n",
       "      <td>1</td>\n",
       "      <td>0</td>\n",
       "      <td>4</td>\n",
       "      <td>22</td>\n",
       "      <td>4132</td>\n",
       "      <td>20</td>\n",
       "      <td>1995</td>\n",
       "    </tr>\n",
       "    <tr>\n",
       "      <th>1</th>\n",
       "      <td>1</td>\n",
       "      <td>0</td>\n",
       "      <td>3</td>\n",
       "      <td>0</td>\n",
       "      <td>1</td>\n",
       "      <td>0</td>\n",
       "      <td>4</td>\n",
       "      <td>22</td>\n",
       "      <td>4132</td>\n",
       "      <td>20</td>\n",
       "      <td>1990</td>\n",
       "    </tr>\n",
       "    <tr>\n",
       "      <th>2</th>\n",
       "      <td>1</td>\n",
       "      <td>0</td>\n",
       "      <td>3</td>\n",
       "      <td>1</td>\n",
       "      <td>1</td>\n",
       "      <td>0</td>\n",
       "      <td>4</td>\n",
       "      <td>22</td>\n",
       "      <td>4132</td>\n",
       "      <td>20</td>\n",
       "      <td>1999</td>\n",
       "    </tr>\n",
       "    <tr>\n",
       "      <th>3</th>\n",
       "      <td>1</td>\n",
       "      <td>0</td>\n",
       "      <td>3</td>\n",
       "      <td>0</td>\n",
       "      <td>1</td>\n",
       "      <td>0</td>\n",
       "      <td>4</td>\n",
       "      <td>22</td>\n",
       "      <td>4132</td>\n",
       "      <td>20</td>\n",
       "      <td>1997</td>\n",
       "    </tr>\n",
       "    <tr>\n",
       "      <th>4</th>\n",
       "      <td>1</td>\n",
       "      <td>40</td>\n",
       "      <td>3</td>\n",
       "      <td>1</td>\n",
       "      <td>1</td>\n",
       "      <td>0</td>\n",
       "      <td>4</td>\n",
       "      <td>22</td>\n",
       "      <td>1455</td>\n",
       "      <td>423</td>\n",
       "      <td>1994</td>\n",
       "    </tr>\n",
       "  </tbody>\n",
       "</table>\n",
       "</div>"
      ],
      "text/plain": [
       "   MODALIDADE_ENSINO_BOLSA  NOME_CURSO_BOLSA  NOME_TURNO_CURSO_BOLSA  \\\n",
       "0                        1                 0                       3   \n",
       "1                        1                 0                       3   \n",
       "2                        1                 0                       3   \n",
       "3                        1                 0                       3   \n",
       "4                        1                40                       3   \n",
       "\n",
       "   SEXO_BENEFICIARIO_BOLSA  RACA_BENEFICIARIO_BOLSA  \\\n",
       "0                        0                        1   \n",
       "1                        0                        1   \n",
       "2                        1                        1   \n",
       "3                        0                        1   \n",
       "4                        1                        1   \n",
       "\n",
       "   BENEFICIARIO_DEFICIENTE_FISICO  REGIAO_BENEFICIARIO_BOLSA  \\\n",
       "0                               0                          4   \n",
       "1                               0                          4   \n",
       "2                               0                          4   \n",
       "3                               0                          4   \n",
       "4                               0                          4   \n",
       "\n",
       "   SIGLA_UF_BENEFICIARIO_BOLSA  MUNICIPIO_BENEFICIARIO_BOLSA  \\\n",
       "0                           22                          4132   \n",
       "1                           22                          4132   \n",
       "2                           22                          4132   \n",
       "3                           22                          4132   \n",
       "4                           22                          1455   \n",
       "\n",
       "   CODIGO_EMEC_IES_BOLSA DT_NASCIMENTO_BENEFICIARIO  \n",
       "0                     20                       1995  \n",
       "1                     20                       1990  \n",
       "2                     20                       1999  \n",
       "3                     20                       1997  \n",
       "4                    423                       1994  "
      ]
     },
     "execution_count": 82,
     "metadata": {},
     "output_type": "execute_result"
    }
   ],
   "source": [
    "X['CODIGO_EMEC_IES_BOLSA'], X['DT_NASCIMENTO_BENEFICIARIO'] = df['CODIGO_EMEC_IES_BOLSA'], df['DT_NASCIMENTO_BENEFICIARIO']\n",
    "X.head()"
   ]
  },
  {
   "cell_type": "markdown",
   "metadata": {},
   "source": [
    "## Dados desbalanceados\n",
    "\n",
    "<p style='font-size: 18px; line-height: 2; margin: 10px 50px; text-align: justify;'>Aqui percebemos que nossa base de dados apresenta quantidades desbalanceadas de labels, o que pode resultar em problemas no treinamento do algoritmo, como o overfitting</p>\n",
    "<p style='font-size: 18px; line-height: 2; margin: 10px 50px; text-align: justify;'>Para ajustar nossos dados, podemos optar pelos metodos Resampling:</p>\n",
    "\n",
    " * Undersampling: Remover amostras da classe majoritária \n",
    " * Oversamplig: Adicionar mais exemplos da classe minoritária"
   ]
  },
  {
   "cell_type": "markdown",
   "metadata": {},
   "source": [
    "<img width='700px' src='resampling.png'>"
   ]
  },
  {
   "cell_type": "code",
   "execution_count": 83,
   "metadata": {},
   "outputs": [
    {
     "data": {
      "image/png": "[encoded data removed]",
      "text/plain": [
       "<Figure size 432x288 with 1 Axes>"
      ]
     },
     "metadata": {
      "needs_background": "light"
     },
     "output_type": "display_data"
    }
   ],
   "source": [
    "df['TIPO_BOLSA'].value_counts().plot(kind=\"bar\")\n",
    "plt.title(\"Distribuição de Bolsas do Prouni 2016\")\n",
    "plt.xlabel(\"Tipos de Bolsas\")\n",
    "plt.ylabel(\"Total de estudantes\")\n",
    "plt.show()"
   ]
  },
  {
   "cell_type": "code",
   "execution_count": 84,
   "metadata": {},
   "outputs": [
    {
     "name": "stdout",
     "output_type": "stream",
     "text": [
      "Removed indexes: [185415 155902 219565 ... 239188 239189 239190]\n"
     ]
    }
   ],
   "source": [
    "rus = RandomUnderSampler(return_indices=True)\n",
    "X_rus, y_rus, id_rus = rus.fit_sample(X, y)\n",
    "\n",
    "print('Removed indexes:', id_rus)"
   ]
  },
  {
   "cell_type": "code",
   "execution_count": 85,
   "metadata": {},
   "outputs": [
    {
     "data": {
      "text/plain": [
       "(array([81851.,     0., 81851.]),\n",
       " array([0.        , 0.33333333, 0.66666667, 1.        ]),\n",
       " <a list of 3 Patch objects>)"
      ]
     },
     "execution_count": 85,
     "metadata": {},
     "output_type": "execute_result"
    },
    {
     "data": {
      "image/png": "[encoded data removed]",
      "text/plain": [
       "<Figure size 432x288 with 1 Axes>"
      ]
     },
     "metadata": {
      "needs_background": "light"
     },
     "output_type": "display_data"
    }
   ],
   "source": [
    "plt.hist(y_rus, bins=3) "
   ]
  },
  {
   "cell_type": "markdown",
   "metadata": {},
   "source": [
    "# <font color='red' style='font-size: 30px;'>Split Datas</font>\n",
    "<hr style='border: 2px solid red;'>"
   ]
  },
  {
   "cell_type": "markdown",
   "metadata": {},
   "source": [
    "## Dividindo dados em treino e teste\n",
    "\n",
    "<p style='font-size: 18px; line-height: 2; margin: 10px 50px; text-align: justify;'>É importante dividir nossos dados em um subconjunto de treinamento e outro subconjunto para teste, que utilizaremos para validar a eficiência da aprendizagem do modelo em questão</p>\n",
    "\n",
    "<img width='700px' src='dataset.png'>"
   ]
  },
  {
   "cell_type": "code",
   "execution_count": 20,
   "metadata": {},
   "outputs": [],
   "source": [
    "X_train,X_test,y_train,y_test = train_test_split(X_rus,y_rus, test_size=0.3)"
   ]
  },
  {
   "cell_type": "markdown",
   "metadata": {},
   "source": [
    "# <font color='red' style='font-size: 30px;'>Treinamento</font>\n",
    "<hr style='border: 2px solid red;'>"
   ]
  },
  {
   "cell_type": "markdown",
   "metadata": {},
   "source": [
    "## Search Hiperparameters\n",
    "\n",
    "<p style='font-size: 18px; line-height: 2; margin: 10px 50px; text-align: justify;'>Hiperparametos são configurações externas ao modelo cujo alor não pode ser estimado a partir dos dados (quando um algoritmo de ML é ajustado a um problema específico)</p>\n",
    "\n",
    "<p style='font-size: 18px; line-height: 2; margin: 10px 50px; text-align: justify;'>Afim de encontrar os melhores hiperparametros para o modelos, podemos utilizar os seguintes metodos: </p>\n",
    "\n",
    "* Babysitting: Abordagem manual, e mais amplamente utilizada por pesquisadores;\n",
    "* GridSearch: Abordagem de força bruta, combinando varios valores, tentando chegar na melhor combinação;\n",
    "* RandomSearch: Abordagem de amostras aleatórias avaliando o conjunto em uma distribuição de probabilidades especificas;\n",
    "* Bayesian Optimization: Abordagem que tenta prever as métricas que interessam na configuração;\n",
    "\n",
    "<img width='700px' src='search.png'>"
   ]
  },
  {
   "cell_type": "markdown",
   "metadata": {},
   "source": [
    "# <font color='blue' style='font-size: 20px;'>K - Nearest Neighbors</font>\n",
    "<hr style='border: 2px solid blue;'>\n",
    "\n",
    "<p style='font-size: 18px; line-height: 2; margin: 10px 50px; text-align: justify;'>Um dos algoritmos mais utilizados em Machine Learning e também um dos mais simplistas, podendo ser utilizado tanto para classificação quanto para regressão</p>\n",
    "\n",
    "<p style='font-size: 18px; line-height: 2; margin: 10px 50px; text-align: justify;'>O KNN é um algoritmo não paramétrico, onde a estrutura do modelo será determinada pelo dataset utilizado</p>\n",
    "\n",
    "\n",
    "<img width='700px' src='knn.png'>"
   ]
  },
  {
   "cell_type": "code",
   "execution_count": 41,
   "metadata": {},
   "outputs": [],
   "source": [
    "parameters = {\n",
    "    'n_neighbors': np.array([1, 2, 3, 4, 5, 6, 7, 8, 9, 10]),\n",
    "    'metric': ['minkowski', 'euclidean']\n",
    "}\n",
    "gs_knn = GridSearchCV(KNeighborsClassifier(), parameters)"
   ]
  },
  {
   "cell_type": "code",
   "execution_count": 42,
   "metadata": {},
   "outputs": [
    {
     "name": "stderr",
     "output_type": "stream",
     "text": [
      "c:\\users\\allan\\appdata\\local\\programs\\python\\python37-32\\lib\\site-packages\\sklearn\\model_selection\\_split.py:2053: FutureWarning: You should specify a value for 'cv' instead of relying on the default value. The default value will change from 3 to 5 in version 0.22.\n",
      "  warnings.warn(CV_WARNING, FutureWarning)\n"
     ]
    },
    {
     "name": "stdout",
     "output_type": "stream",
     "text": [
      "369.6813642978668\n"
     ]
    }
   ],
   "source": [
    "start = time.time()\n",
    "gs_knn = gs_knn.fit(X_train, y_train)\n",
    "print(time.time() - start)"
   ]
  },
  {
   "cell_type": "code",
   "execution_count": 43,
   "metadata": {},
   "outputs": [
    {
     "name": "stdout",
     "output_type": "stream",
     "text": [
      "{'metric': 'minkowski', 'n_neighbors': 3}\n"
     ]
    }
   ],
   "source": [
    "print(gs_knn.best_params_)"
   ]
  },
  {
   "cell_type": "code",
   "execution_count": 21,
   "metadata": {},
   "outputs": [],
   "source": [
    "error = []\n",
    "\n",
    "for i in range(1, 10):  \n",
    "    knn = KNeighborsClassifier(n_neighbors=i)\n",
    "    knn.fit(X_train, y_train)\n",
    "    pred_i = knn.predict(X_test)\n",
    "    error.append(np.mean(pred_i != y_test))"
   ]
  },
  {
   "cell_type": "code",
   "execution_count": 22,
   "metadata": {},
   "outputs": [
    {
     "data": {
      "text/plain": [
       "Text(0, 0.5, 'Mean Error')"
      ]
     },
     "execution_count": 22,
     "metadata": {},
     "output_type": "execute_result"
    },
    {
     "data": {
      "image/png": "[encoded data removed]",
      "text/plain": [
       "<Figure size 864x432 with 1 Axes>"
      ]
     },
     "metadata": {
      "needs_background": "light"
     },
     "output_type": "display_data"
    }
   ],
   "source": [
    "plt.figure(figsize=(12, 6))  \n",
    "plt.plot(range(1, 10), error, color='red', linestyle='dashed', marker='o',  \n",
    "         markerfacecolor='blue', markersize=10)\n",
    "plt.title('Error Rate K Value')  \n",
    "plt.xlabel('K Value')  \n",
    "plt.ylabel('Mean Error')  "
   ]
  },
  {
   "cell_type": "code",
   "execution_count": 102,
   "metadata": {},
   "outputs": [
    {
     "data": {
      "text/plain": [
       "KNeighborsClassifier(algorithm='auto', leaf_size=30, metric='minkowski',\n",
       "           metric_params=None, n_jobs=None, n_neighbors=3, p=2,\n",
       "           weights='uniform')"
      ]
     },
     "execution_count": 102,
     "metadata": {},
     "output_type": "execute_result"
    }
   ],
   "source": [
    "classifier = KNeighborsClassifier(n_neighbors=3, metric='minkowski')\n",
    "classifier.fit(X_train, y_train) "
   ]
  },
  {
   "cell_type": "code",
   "execution_count": 103,
   "metadata": {},
   "outputs": [],
   "source": [
    "y_pred = classifier.predict(X_test) "
   ]
  },
  {
   "cell_type": "code",
   "execution_count": 104,
   "metadata": {},
   "outputs": [
    {
     "data": {
      "text/plain": [
       "0.8283073038626784"
      ]
     },
     "execution_count": 104,
     "metadata": {},
     "output_type": "execute_result"
    }
   ],
   "source": [
    "accuracy_score(y_test, y_pred)"
   ]
  },
  {
   "cell_type": "code",
   "execution_count": 88,
   "metadata": {},
   "outputs": [
    {
     "data": {
      "image/png": "[encoded data removed]",
      "text/plain": [
       "<Figure size 432x288 with 1 Axes>"
      ]
     },
     "metadata": {
      "needs_background": "light"
     },
     "output_type": "display_data"
    }
   ],
   "source": [
    "mat = confusion_matrix(y_test, y_pred)\n",
    "sns.heatmap(mat.T, square=True, annot=True, fmt='d', cbar=False)\n",
    "plt.xlabel('true label')\n",
    "plt.ylabel('predicted label');"
   ]
  },
  {
   "cell_type": "markdown",
   "metadata": {},
   "source": [
    "# <font color='blue' style='font-size: 20px;'>Naive Bayes</font>\n",
    "<hr style='border: 2px solid blue;'>\n",
    "\n",
    "<p style='font-size: 18px; line-height: 2; margin: 10px 50px; text-align: justify;'>Naive Bayes é um exemplo de classificação generativa onde simplesmente descrevemos a distribuição de cada classe subjacente e usamos esses modelos geradores para determinar probabilisticamente rótulos para novos pontos </p>\n",
    "\n",
    "<p style='font-size: 18px; line-height: 2; margin: 10px 50px; text-align: justify;'>Considera os atributos do espaço probabilístico individualmente, sendo um independente do outro</p>\n",
    "\n",
    "<img width='700px' src='nb.png'>"
   ]
  },
  {
   "cell_type": "code",
   "execution_count": 89,
   "metadata": {},
   "outputs": [],
   "source": [
    "parameters = {\n",
    "    'alpha': np.linspace(0.5, 1.5, 6),\n",
    "    'fit_prior': [True, False]\n",
    "}\n",
    "gs_nb = GridSearchCV(MultinomialNB(), parameters)"
   ]
  },
  {
   "cell_type": "code",
   "execution_count": 90,
   "metadata": {},
   "outputs": [
    {
     "name": "stderr",
     "output_type": "stream",
     "text": [
      "c:\\users\\allan\\appdata\\local\\programs\\python\\python37-32\\lib\\site-packages\\sklearn\\model_selection\\_split.py:2053: FutureWarning: You should specify a value for 'cv' instead of relying on the default value. The default value will change from 3 to 5 in version 0.22.\n",
      "  warnings.warn(CV_WARNING, FutureWarning)\n"
     ]
    },
    {
     "name": "stdout",
     "output_type": "stream",
     "text": [
      "9.388930797576904\n"
     ]
    }
   ],
   "source": [
    "start = time.time()\n",
    "gs_nb = gs_nb.fit(X_train, y_train)\n",
    "print(time.time() - start)"
   ]
  },
  {
   "cell_type": "code",
   "execution_count": 93,
   "metadata": {},
   "outputs": [
    {
     "name": "stdout",
     "output_type": "stream",
     "text": [
      "{'alpha': 0.5, 'fit_prior': True}\n"
     ]
    }
   ],
   "source": [
    "print(gs_nb.best_params_)"
   ]
  },
  {
   "cell_type": "code",
   "execution_count": 95,
   "metadata": {},
   "outputs": [
    {
     "data": {
      "text/plain": [
       "MultinomialNB(alpha=0.5, class_prior=None, fit_prior=True)"
      ]
     },
     "execution_count": 95,
     "metadata": {},
     "output_type": "execute_result"
    }
   ],
   "source": [
    "classifier = MultinomialNB(alpha=0.5, fit_prior=True)\n",
    "classifier.fit(X_train, y_train) "
   ]
  },
  {
   "cell_type": "code",
   "execution_count": 96,
   "metadata": {},
   "outputs": [],
   "source": [
    "y_pred = classifier.predict(X_test) "
   ]
  },
  {
   "cell_type": "code",
   "execution_count": 101,
   "metadata": {},
   "outputs": [
    {
     "data": {
      "text/plain": [
       "0.6038972938852802"
      ]
     },
     "execution_count": 101,
     "metadata": {},
     "output_type": "execute_result"
    }
   ],
   "source": [
    "accuracy_score(y_test, y_pred)"
   ]
  },
  {
   "cell_type": "code",
   "execution_count": 97,
   "metadata": {},
   "outputs": [
    {
     "data": {
      "image/png": "[encoded data removed]",
      "text/plain": [
       "<Figure size 432x288 with 1 Axes>"
      ]
     },
     "metadata": {
      "needs_background": "light"
     },
     "output_type": "display_data"
    }
   ],
   "source": [
    "mat = confusion_matrix(y_test, y_pred)\n",
    "sns.heatmap(mat.T, square=True, annot=True, fmt='d', cbar=False)\n",
    "plt.xlabel('true label')\n",
    "plt.ylabel('predicted label');"
   ]
  },
  {
   "cell_type": "markdown",
   "metadata": {},
   "source": [
    "# <font color='blue' style='font-size: 20px;'>Support Vector Machine</font>\n",
    "<hr style='border: 2px solid blue;'>\n",
    "\n",
    "<p style='font-size: 18px; line-height: 2; margin: 10px 50px; text-align: justify;'>Support Vector Machine (SVM) é uma classe particularmente poderosa e flexível de algoritmos supervisionados para classificação e regressão.</p>\n",
    "\n",
    "<p style='font-size: 18px; line-height: 2; margin: 10px 50px; text-align: justify;'>Classificação discriminativa: em vez de modelar cada classe, simplesmente encontramos uma linha ou curva (em duas dimensões) que divide as classes umas das outras.</p>\n",
    "\n",
    "<img width='700px' src='svm.png'>"
   ]
  },
  {
   "cell_type": "code",
   "execution_count": 108,
   "metadata": {},
   "outputs": [],
   "source": [
    "parameters = {\n",
    "    'kernel': ['linear', 'rbf'],\n",
    "    'C': np.linspace(0.5, 1.0, 5)\n",
    "}\n",
    "gs_svc = GridSearchCV(SVC(), parameters)"
   ]
  },
  {
   "cell_type": "code",
   "execution_count": 2,
   "metadata": {},
   "outputs": [],
   "source": [
    "start = time.time()\n",
    "gs_svc = gs_svc.fit(X_train, y_train)\n",
    "print(time.time() - start)"
   ]
  },
  {
   "cell_type": "code",
   "execution_count": 4,
   "metadata": {},
   "outputs": [
    {
     "name": "stdout",
     "output_type": "stream",
     "text": [
      "{'kernel': 'rbf', 'C': 0.5}\n"
     ]
    }
   ],
   "source": [
    "print(gs_svc.best_params_)"
   ]
  },
  {
   "cell_type": "code",
   "execution_count": 6,
   "metadata": {},
   "outputs": [],
   "source": [
    "classifier = SVC(kernel='rbf', C=0.5)\n",
    "classifier.fit(X_train, y_train) "
   ]
  },
  {
   "cell_type": "code",
   "execution_count": 7,
   "metadata": {},
   "outputs": [],
   "source": [
    "y_pred = classifier.predict(X_test) "
   ]
  },
  {
   "cell_type": "code",
   "execution_count": 9,
   "metadata": {},
   "outputs": [],
   "source": [
    "import numpy as np\n",
    "s = np.array([1, 2, 3])"
   ]
  },
  {
   "cell_type": "code",
   "execution_count": null,
   "metadata": {},
   "outputs": [],
   "source": [
    "accuracy_score(y_test, y_pred)"
   ]
  },
  {
   "cell_type": "code",
   "execution_count": null,
   "metadata": {},
   "outputs": [],
   "source": [
    "mat = confusion_matrix(y_test, y_pred)\n",
    "sns.heatmap(mat.T, square=True, annot=True, fmt='d', cbar=False)\n",
    "plt.xlabel('true label')\n",
    "plt.ylabel('predicted label');"
   ]
  },
  {
   "cell_type": "code",
   "execution_count": null,
   "metadata": {},
   "outputs": [],
   "source": []
  },
  {
   "cell_type": "code",
   "execution_count": null,
   "metadata": {},
   "outputs": [],
   "source": []
  },
  {
   "cell_type": "code",
   "execution_count": null,
   "metadata": {},
   "outputs": [],
   "source": []
  },
  {
   "cell_type": "code",
   "execution_count": null,
   "metadata": {},
   "outputs": [],
   "source": []
  },
  {
   "cell_type": "code",
   "execution_count": null,
   "metadata": {},
   "outputs": [],
   "source": []
  }
 ],
 "metadata": {
  "kernelspec": {
   "display_name": "Python 3",
   "language": "python",
   "name": "python3"
  },
  "language_info": {
   "codemirror_mode": {
    "name": "ipython",
    "version": 3
   },
   "file_extension": ".py",
   "mimetype": "text/x-python",
   "name": "python",
   "nbconvert_exporter": "python",
   "pygments_lexer": "ipython3",
   "version": "3.7.3"
  }
 },
 "nbformat": 4,
 "nbformat_minor": 2
}
